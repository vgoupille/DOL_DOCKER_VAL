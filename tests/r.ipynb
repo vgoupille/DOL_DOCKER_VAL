{
 "cells": [
  {
   "cell_type": "code",
   "execution_count": 1,
   "id": "b7158a93-bf8f-4be1-9a93-4fb699501d4d",
   "metadata": {},
   "outputs": [
    {
     "data": {
      "text/html": [
       "1"
      ],
      "text/latex": [
       "1"
      ],
      "text/markdown": [
       "1"
      ],
      "text/plain": [
       "[1] 1"
      ]
     },
     "metadata": {},
     "output_type": "display_data"
    }
   ],
   "source": [
    "a = 1\n",
    "a"
   ]
  },
  {
   "cell_type": "code",
   "execution_count": 2,
   "id": "7e0f0ac2-94c2-45ec-88c1-23f6bf0353ff",
   "metadata": {},
   "outputs": [],
   "source": [
    "b <- 1"
   ]
  },
  {
   "cell_type": "code",
   "execution_count": 3,
   "id": "c6f46566-dc16-4955-8161-89a59879b1dd",
   "metadata": {},
   "outputs": [
    {
     "data": {
      "text/html": [
       "1"
      ],
      "text/latex": [
       "1"
      ],
      "text/markdown": [
       "1"
      ],
      "text/plain": [
       "[1] 1"
      ]
     },
     "metadata": {},
     "output_type": "display_data"
    }
   ],
   "source": [
    "b "
   ]
  }
 ],
 "metadata": {
  "kernelspec": {
   "display_name": "R",
   "language": "R",
   "name": "ir"
  },
  "language_info": {
   "codemirror_mode": "r",
   "file_extension": ".r",
   "mimetype": "text/x-r-source",
   "name": "R",
   "pygments_lexer": "r",
   "version": "4.4.0"
  }
 },
 "nbformat": 4,
 "nbformat_minor": 5
}
